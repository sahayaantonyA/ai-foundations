{
 "cells": [
  {
   "cell_type": "markdown",
   "id": "889099a7",
   "metadata": {},
   "source": [
    "## Introduction to Minimum Edit Distance\n",
    "Minimum Edit Distance is a way to measure how different two strings are. It tells us how many changes (insertions, deletions, or substitutions) are needed to turn one string into another. This is useful in applications like spell checkers, speech recognition, and DNA sequence analysis.\n",
    "\n",
    "---"
   ]
  },
  {
   "cell_type": "markdown",
   "id": "db9ef0b3",
   "metadata": {},
   "source": [
    "## Sentence Segmentation: Delimiters and Punctuation\n",
    "When processing text, we need to break it into sentences. This is done using delimiters—special characters that indicate sentence boundaries.\n",
    "\n",
    "### **Unambiguous Delimiters**\n",
    "Some punctuation marks clearly indicate the end of a sentence:\n",
    "- **Exclamation mark (!)**\n",
    "- **Question mark (?)**\n",
    "\n",
    "**For example:**\n",
    "- \"Where are you going?\" (Ends with '?', so it's a sentence)\n",
    "- \"That's amazing!\" (Ends with '!', so it's a sentence)\n",
    "\n",
    "### **Ambiguous Delimiters**\n",
    "The period ('.') is sometimes tricky because it can be part of abbreviations, names, or numbers.\n",
    "\n",
    "**Example of ambiguity:**\n",
    "- \"Dr. Smith is here.\" ('Dr.' is an abbreviation, not the end of a sentence)\n",
    "- \"The U.S.A. is a country.\" (Periods appear within the name)\n",
    "\n",
    "A system must distinguish between real sentence boundaries and abbreviations.\n",
    "\n",
    "---"
   ]
  },
  {
   "cell_type": "markdown",
   "id": "cf7b8aa9",
   "metadata": {},
   "source": [
    "## Coreference Resolution\n",
    "Coreference occurs when multiple words refer to the same thing.\n",
    "\n",
    "**Example:** \"Stanford Arizona Cactus Garden\" and \"Stanford University Arizona Cactus Garden\" might refer to the same place.\n",
    "\n",
    "AI models need to understand that these names might represent the same entity in a given context.\n",
    "\n",
    "---"
   ]
  },
  {
   "cell_type": "markdown",
   "id": "5a755981",
   "metadata": {},
   "source": [
    "## Minimum Edit Distance and String Similarity\n",
    "The Minimum Edit Distance helps compare two strings by counting the number of edits (insertions, deletions, substitutions) needed to transform one string into another.\n",
    "\n",
    "### **Levenshtein Distance**\n",
    "A common way to measure Minimum Edit Distance is the Levenshtein Distance, where:\n",
    "- Inserting a character costs **1**\n",
    "- Deleting a character costs **1**\n",
    "- Substituting one character for another costs **2** (unless they are the same, in which case it costs **0**)\n",
    "\n",
    "**Example: Changing 'INTENTION' to 'EXECUTION'**\n",
    "\n",
    "We can transform \"INTENTION\" into \"EXECUTION\" using the following steps:\n",
    "\n",
    "- Substitute 'I' → 'E' (cost **2**)\n",
    "- Substitute 'N' → 'X' (cost **2**)\n",
    "- Substitute 'T' → 'C' (cost **2**)\n",
    "- Insert 'U' (cost **1**)\n",
    "- Insert 'T' (cost **1**)\n",
    "\n",
    "**Total edit distance = 8**\n",
    "\n",
    "---"
   ]
  },
  {
   "cell_type": "code",
   "execution_count": 3,
   "id": "ccbc4eb6",
   "metadata": {},
   "outputs": [
    {
     "name": "stdout",
     "output_type": "stream",
     "text": [
      "8.0\n"
     ]
    }
   ],
   "source": [
    "# Example: Computing Minimum Edit Distance (Levenshtein Distance) in Python\n",
    "import numpy as np\n",
    "def min_edit_distance(str1, str2):\n",
    "    m, n = len(str1), len(str2)\n",
    "    dp = np.zeros((m+1, n+1))\n",
    "    for i in range(m+1):\n",
    "        for j in range(n+1):\n",
    "            if i == 0:\n",
    "                dp[i][j] = j\n",
    "            elif j == 0:\n",
    "                dp[i][j] = i\n",
    "            elif str1[i-1] == str2[j-1]:\n",
    "                dp[i][j] = dp[i-1][j-1]\n",
    "            else:\n",
    "                dp[i][j] = min(dp[i-1][j] + 1,  # Deletion\n",
    "                              dp[i][j-1] + 1,  # Insertion\n",
    "                              dp[i-1][j-1] + 2)  # Substitution\n",
    "    return dp[m][n]\n",
    "\n",
    "# Example usage:\n",
    "print(min_edit_distance('INTENTION', 'EXECUTION'))  # Output: 8"
   ]
  },
  {
   "cell_type": "markdown",
   "id": "7d4bd9f9",
   "metadata": {},
   "source": [
    "## Applications of Minimum Edit Distance\n",
    "- **Spell Checkers** – Suggesting corrections for misspelled words (e.g., \"recieve\" → \"receive\").\n",
    "- **Speech Recognition** – Comparing spoken words to written text.\n",
    "- **DNA Sequence Analysis** – Identifying similarities in genetic sequences.\n",
    "- **Plagiarism Detection** – Checking similarity between texts.\n",
    "\n",
    "---"
   ]
  },
  {
   "cell_type": "markdown",
   "id": "dc3838d9",
   "metadata": {},
   "source": [
    "## Conclusion\n",
    "Minimum Edit Distance is a powerful tool in Natural Language Processing (NLP) and computational linguistics. By understanding insertions, deletions, and substitutions, AI systems can improve text processing tasks like spell-checking, speech-to-text conversion, and more.\n",
    "\n",
    "Which application do you find most useful? Let’s discuss! 🚀"
   ]
  }
 ],
 "metadata": {
  "kernelspec": {
   "display_name": "venv",
   "language": "python",
   "name": "python3"
  },
  "language_info": {
   "codemirror_mode": {
    "name": "ipython",
    "version": 3
   },
   "file_extension": ".py",
   "mimetype": "text/x-python",
   "name": "python",
   "nbconvert_exporter": "python",
   "pygments_lexer": "ipython3",
   "version": "3.9.6"
  }
 },
 "nbformat": 4,
 "nbformat_minor": 5
}
