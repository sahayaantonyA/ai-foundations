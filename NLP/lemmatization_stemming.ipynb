{
 "cells": [
  {
   "cell_type": "markdown",
   "id": "7daef7a8",
   "metadata": {},
   "source": [
    "# Introduction to Lemmatization and Stemming\n",
    "## What is Lemmatization?\n",
    "Lemmatization is the process of reducing words to their base or dictionary form, known as the **lemma**. Unlike simple stemming, lemmatization considers the **context and meaning** of a word.\n",
    "\n",
    "**Examples:**\n",
    "- **go, went, gone** → **go**\n",
    "- **is, am, are, was, were** → **be**\n",
    "- **running, runs, ran** → **run**\n"
   ]
  },
  {
   "cell_type": "markdown",
   "id": "ca6a9b82",
   "metadata": {},
   "source": [
    "## 1. Normalization (Case Folding)\n",
    "Normalization is a preprocessing step in text processing where words are converted into a standard format. One common type is **case folding**, which means converting all letters to lowercase.\n",
    "\n",
    "**Example:**\n",
    "- \"HELLO\" → \"hello\"\n",
    "- \"NLP is FUN!\" → \"nlp is fun!\""
   ]
  },
  {
   "cell_type": "markdown",
   "id": "207c81b7",
   "metadata": {},
   "source": [
    "## 2. Morphologically Different Words\n",
    "Words can appear in different **morphological forms**, but they may have the same root meaning.\n",
    "\n",
    "**Examples:**\n",
    "- **Duck** (singular) → **Ducks** (plural)\n",
    "- **Come** (present) → **Came** (past)\n",
    "- **Go** (present) → **Went** (past)\n",
    "\n",
    "Lemmatization helps unify these words under a common base form."
   ]
  },
  {
   "cell_type": "markdown",
   "id": "c7787eed",
   "metadata": {},
   "source": [
    "## 3. Surfacially Different but Same Root/Stem\n",
    "Some words may look different but share the same underlying meaning. Lemmatization helps to bring them to their base form.\n",
    "\n",
    "**Example:** \"Went\", \"Go\", and \"Gone\" all have the same lemma: **go**."
   ]
  },
  {
   "cell_type": "markdown",
   "id": "b65f57e4",
   "metadata": {},
   "source": [
    "## 4. Lemmatization Example Sentences\n",
    "Consider the sentence:\n",
    "**\"He is reading detective stories.\"**\n",
    "\n",
    "Lemmatized version: **\"He be read detective story.\"**\n",
    "\n",
    "Here, \"is\" → \"be\", \"reading\" → \"read\", and \"stories\" → \"story\" (singular form)."
   ]
  },
  {
   "cell_type": "markdown",
   "id": "6ecfd806",
   "metadata": {},
   "source": [
    "## 5. Two Broad Classes of Morphemes: Stem + Affix\n",
    "Words in English consist of a **stem (root word)** and an **affix (prefix or suffix)**.\n",
    "\n",
    "**Examples:**\n",
    "- \"cats\" = \"cat\" (stem) + \"s\" (affix)\n",
    "- \"running\" = \"run\" (stem) + \"ing\" (affix)\n",
    "\n",
    "A **morphological parser** is used to split words into **stem + affix**."
   ]
  },
  {
   "cell_type": "markdown",
   "id": "4c5b4bfc",
   "metadata": {},
   "source": [
    "## 6. Porter Stemmer: Stemming vs. Lemmatization\n",
    "The **Porter Stemmer Algorithm** is a rule-based approach that removes affixes to get the stem of a word. Unlike lemmatization, stemming does not consider the word’s actual meaning.\n",
    "\n",
    "**Rewrite Rules in Porter Stemmer:**\n",
    "- **ATIONAL → ATE** (e.g., \"relational\" → \"relate\")\n",
    "- **ING → ϵ** (remove \"ing\" if the stem contains a vowel, e.g., \"motoring\" → \"motor\")\n",
    "- **SSES → SS** (e.g., \"grasses\" → \"grass\")"
   ]
  },
  {
   "cell_type": "markdown",
   "id": "5d2c263e",
   "metadata": {},
   "source": [
    "## 7. Limitations of Porter Stemmer\n",
    "While effective, **stemming** sometimes over-generalizes or under-generalizes:\n",
    "\n",
    "**Over-Generalizing:** \"Policy\" → \"Police\" (incorrect)\n",
    "\n",
    "**Under-Generalizing:** \"Not European\" → \"Europe\" (this doesn't happen, though it should)"
   ]
  },
  {
   "cell_type": "markdown",
   "id": "0392e997",
   "metadata": {},
   "source": [
    "## Conclusion\n",
    "- **Stemming** is a fast and simple way to reduce words to their base form but may result in incorrect stems.\n",
    "- **Lemmatization** ensures accuracy by considering the context and meaning of words, making it more reliable for NLP applications.\n",
    "\n",
    "By using lemmatization, we can improve text analysis in applications like **search engines, chatbots, and sentiment analysis**."
   ]
  }
 ],
 "metadata": {
  "kernelspec": {
   "display_name": "venv",
   "language": "python",
   "name": "python3"
  },
  "language_info": {
   "codemirror_mode": {
    "name": "ipython",
    "version": 3
   },
   "file_extension": ".py",
   "mimetype": "text/x-python",
   "name": "python",
   "nbconvert_exporter": "python",
   "pygments_lexer": "ipython3",
   "version": "3.9.6"
  }
 },
 "nbformat": 4,
 "nbformat_minor": 5
}
