{
 "cells": [
  {
   "cell_type": "markdown",
   "id": "7a4e5519",
   "metadata": {},
   "source": [
    "## Understanding Language Models (LMs) and Probability in AI\n",
    "Language Models (LMs) are AI systems designed to understand and generate human language. They predict the likelihood of a sequence of words appearing in a sentence based on patterns in data.\n",
    "\n",
    "---"
   ]
  },
  {
   "cell_type": "markdown",
   "id": "776c3454",
   "metadata": {},
   "source": [
    "### **1. What are Language Models (LMs)?**\n",
    "Language Models (LMs) are AI systems designed to understand and generate human language. They predict the likelihood of a sequence of words appearing in a sentence based on patterns in data."
   ]
  },
  {
   "cell_type": "markdown",
   "id": "13908648",
   "metadata": {},
   "source": [
    "### **2. How Do Language Models Work?**\n",
    "Language models work by predicting the next word in a sentence. For example, given the phrase:\n",
    "\n",
    "**\"I am going to the...\"**\n",
    "\n",
    "The model predicts words that are likely to follow, such as:\n",
    "- \"store\"\n",
    "- \"park\"\n",
    "- \"movies\"\n",
    "\n",
    "It assigns probabilities to each word based on learned patterns from large datasets."
   ]
  },
  {
   "cell_type": "markdown",
   "id": "745be731",
   "metadata": {},
   "source": [
    "### **3. Using LMs for Grammar Correction**\n",
    "Language models help in grammar correction by predicting the correct word or sentence structure based on learned grammatical patterns.\n",
    "For example, they can correct:\n",
    "\n",
    "❌ **\"She go to school.\"** → ✅ **\"She goes to school.\"**"
   ]
  },
  {
   "cell_type": "markdown",
   "id": "240273df",
   "metadata": {},
   "source": [
    "### **4. Augmented & Alternative Communication (AAC)**\n",
    "AAC refers to technologies that assist people with communication challenges. Combining **Computer Vision + Large Language Models (LLMs)** allows systems to interpret images and generate meaningful responses, helping non-verbal individuals communicate effectively."
   ]
  },
  {
   "cell_type": "markdown",
   "id": "3c1b3330",
   "metadata": {},
   "source": [
    "### **5. Large Language Models and Probability**\n",
    "Large Language Models (LLMs) like ChatGPT are built on probability and next-word prediction. They analyze vast amounts of text and use probability calculations to generate responses that are contextually appropriate."
   ]
  },
  {
   "cell_type": "markdown",
   "id": "1020d37f",
   "metadata": {},
   "source": [
    "### **6. Understanding Grams and N-grams**\n",
    "- **Gram**: A single word in a sentence.\n",
    "- **N-gram**: A sequence of \"n\" words.\n",
    "- **Bigram**: A sequence of two words.\n",
    "\n",
    "**Example:**\n",
    "- **Unigram** (single word): \"Hello\"\n",
    "- **Bigram** (two words): \"Hello world\"\n",
    "- **Trigram** (three words): \"Hello world today\"\n",
    "\n",
    "N-grams are used to estimate the probability of a word given the previous words."
   ]
  },
  {
   "cell_type": "markdown",
   "id": "80d42c30",
   "metadata": {},
   "source": [
    "### **7. N-gram Probability Model**\n",
    "N-grams predict the probability of a word occurring given the previous words. For example, in the sentence:\n",
    "\n",
    "**\"I am in love with a ____\"**\n",
    "\n",
    "The model assigns probabilities to possible next words:\n",
    "- **PERSON**: 70% chance\n",
    "- **GHOST**: 10% chance\n",
    "- **APPLE**: 20% chance\n",
    "\n",
    "The model selects the most likely word based on learned probabilities."
   ]
  },
  {
   "cell_type": "markdown",
   "id": "66094d3b",
   "metadata": {},
   "source": [
    "### **8. Joint Probability**\n",
    "**Joint Probability** is the probability of two events occurring together. It is denoted as:\n",
    "\n",
    "**P(A ∩ B)** = Probability of A and B occurring together.\n",
    "\n",
    "**Example:** The probability of it being **both heads and tails** at the same time is nearly zero because these are mutually exclusive events."
   ]
  },
  {
   "cell_type": "markdown",
   "id": "20fbed9b",
   "metadata": {},
   "source": [
    "### **9. Mutually Exclusive Events**\n",
    "**Mutually exclusive events** are events that cannot happen at the same time.\n",
    "\n",
    "**Example:**\n",
    "- A coin flip cannot be **both heads and tails** simultaneously."
   ]
  },
  {
   "cell_type": "markdown",
   "id": "ddd4121f",
   "metadata": {},
   "source": [
    "### **10. Probability Formula: Joint Probability**\n",
    "The formula for calculating joint probability is:\n",
    "\n",
    "**P(A ∩ B) = P(A | B) ⋅ P(B)**\n",
    "\n",
    "where:\n",
    "- **P(A | B)** = Probability of event A occurring given that event B has already occurred.\n",
    "- **P(B)** = Probability of event B occurring."
   ]
  },
  {
   "cell_type": "markdown",
   "id": "814ecc5f",
   "metadata": {},
   "source": [
    "### **11. Conditional Probability**\n",
    "Conditional Probability calculates the probability of one event occurring given that another event has already occurred. It is represented as:\n",
    "\n",
    "**P(A | B)** = Probability of A happening given B has happened.\n",
    "\n",
    "**Example:** **P(It is rainy | It is sunny)** is very low because one usually excludes the other."
   ]
  },
  {
   "cell_type": "markdown",
   "id": "221a9075",
   "metadata": {},
   "source": [
    "### **Conclusion**\n",
    "Language Models use probability to predict words and sentences. They power applications like grammar correction, AAC for communication, and AI chat systems. Understanding probability helps in grasping how AI makes decisions and generates meaningful text."
   ]
  }
 ],
 "metadata": {
  "language_info": {
   "name": "python"
  }
 },
 "nbformat": 4,
 "nbformat_minor": 5
}
