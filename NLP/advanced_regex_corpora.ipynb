{
 "cells": [
  {
   "cell_type": "markdown",
   "id": "423e659e",
   "metadata": {},
   "source": [
    "## Advanced Regex & Corpora: Beyond the Basics\n",
    "Regex is a powerful tool for pattern matching, but it doesn’t stop at basic searches and replacements. Advanced concepts like substitution, back-references, and look-ahead assertions make Regex even more useful. Additionally, understanding corpora and utterances is essential for working with speech and text data.\n",
    "\n",
    "---"
   ]
  },
  {
   "cell_type": "markdown",
   "id": "26cf8908",
   "metadata": {},
   "source": [
    "### **1. Substitution (`s/REGEX/PATTERN/`)**\n",
    "Used to replace matched patterns in a string."
   ]
  },
  {
   "cell_type": "code",
   "execution_count": null,
   "id": "167a6c1b",
   "metadata": {},
   "outputs": [],
   "source": [
    "import re\n",
    "text = \"My number is 123-456-7890\"\n",
    "result = re.sub(r'\\d', '#', text)\n",
    "print(result)  # Output: \"My number is ###-###-####\""
   ]
  },
  {
   "cell_type": "markdown",
   "id": "4aab62df",
   "metadata": {},
   "source": [
    "### **2. Numbered Register: Back Reference (`(.*)(.+)\\1\\2`)**\n",
    "Back-references allow matching repeated patterns in text."
   ]
  },
  {
   "cell_type": "code",
   "execution_count": null,
   "id": "fef7277f",
   "metadata": {},
   "outputs": [],
   "source": [
    "text = \"hello hello world\"\n",
    "pattern = r'\\b(\\w+) \\1\\b'\n",
    "print(re.search(pattern, text))  # Matches \"hello hello\""
   ]
  },
  {
   "cell_type": "markdown",
   "id": "4f925522",
   "metadata": {},
   "source": [
    "### **3. Non-Capturing Group (`(?:pattern)`)**\n",
    "Groups a pattern without storing it for back-referencing."
   ]
  },
  {
   "cell_type": "code",
   "execution_count": null,
   "id": "e07d7d57",
   "metadata": {},
   "outputs": [],
   "source": [
    "text = \"hello hello world\"\n",
    "pattern = r'(?:hello) world'\n",
    "print(re.search(pattern, text))  # Matches \"hello world\""
   ]
  },
  {
   "cell_type": "markdown",
   "id": "35049f4b",
   "metadata": {},
   "source": [
    "### **4. Positive Look-ahead (`PATTERN1(?=PATTERN2)`)**\n",
    "Checks if `PATTERN1` is followed by `PATTERN2`."
   ]
  },
  {
   "cell_type": "code",
   "execution_count": null,
   "id": "17973d04",
   "metadata": {},
   "outputs": [],
   "source": [
    "text = \"I love apple pie\"\n",
    "pattern = r'apple(?= pie)'\n",
    "print(re.search(pattern, text))  # Matches \"apple\""
   ]
  },
  {
   "cell_type": "markdown",
   "id": "bafbae74",
   "metadata": {},
   "source": [
    "### **5. Negative Look-ahead (`PATTERN1(?!PATTERN2)`)**\n",
    "Ensures `PATTERN1` is NOT followed by `PATTERN2`."
   ]
  },
  {
   "cell_type": "code",
   "execution_count": null,
   "id": "deda3e16",
   "metadata": {},
   "outputs": [],
   "source": [
    "text = \"I love apple juice\"\n",
    "pattern = r'apple(?! pie)'\n",
    "print(re.search(pattern, text))  # Matches \"apple\""
   ]
  },
  {
   "cell_type": "markdown",
   "id": "13971b69",
   "metadata": {},
   "source": [
    "### **Corpora vs Utterance**\n",
    "**Corpus (plural: corpora):** A large collection of structured text data used in NLP.\n",
    "- Example: A dataset of thousands of transcribed conversations.\n",
    "\n",
    "**Utterance:** A single spoken phrase or sentence in a conversation.\n",
    "- Example: \"Hey, how are you doing?\""
   ]
  },
  {
   "cell_type": "markdown",
   "id": "7ef5d65c",
   "metadata": {},
   "source": [
    "### **Speech Disfluencies & NLP**\n",
    "Speech often includes **disfluencies** (interruptions or hesitations). NLP models need to handle these correctly.\n",
    "\n",
    "**Types of Disfluencies:**\n",
    "- **Fillers (Filled Pauses):** Words like \"uh,\" \"um\"\n",
    "- **Fragments:** Broken-off words like \"Hope-Hopefully\""
   ]
  },
  {
   "cell_type": "markdown",
   "id": "fe0ab6e4",
   "metadata": {},
   "source": [
    "### **How Speech Transcription Systems Handle Disfluencies**\n",
    "- NLP models often remove fillers and correct fragments to improve readability.\n",
    "**Example:**\n",
    "  - Raw: \"Uh, I want to, um, order a pizza.\"\n",
    "  - Processed: \"I want to order a pizza.\""
   ]
  },
  {
   "cell_type": "markdown",
   "id": "c3d5a89c",
   "metadata": {},
   "source": [
    "### **Conclusion**\n",
    "Regex and corpora are crucial for working with text and speech data. Advanced Regex concepts help refine pattern matching, while understanding utterances and disfluencies improves speech transcription. Have you used any of these techniques in your projects? Let’s discuss! 🚀"
   ]
  }
 ],
 "metadata": {},
 "nbformat": 4,
 "nbformat_minor": 5
}
