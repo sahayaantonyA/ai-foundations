{
 "cells": [
  {
   "cell_type": "markdown",
   "metadata": {},
   "source": [
    "## Mastering Regex: The Hidden Superpower of Text Processing"
   ]
  },
  {
   "cell_type": "markdown",
   "metadata": {},
   "source": [
    "##### *Introduction*"
   ]
  },
  {
   "cell_type": "markdown",
   "metadata": {},
   "source": [
    "Regex (Regular Expressions) is one of those tools that seems complex at first, but once you get it, you unlock a whole new level of text processing. I started learning Regex because I was curious about how chatbots and NLP models work. And trust me, it’s a game-changer! If you’ve ever struggled with searching, extracting, or validating text, Regex is your best friend. Let’s dive into what I learned today."
   ]
  },
  {
   "cell_type": "markdown",
   "metadata": {},
   "source": [
    "##### *Understanding Strings in Python*"
   ]
  },
  {
   "cell_type": "markdown",
   "metadata": {},
   "source": [
    "- Raw String\n",
    "- Bytes Litral\n",
    "- Unicode String"
   ]
  },
  {
   "cell_type": "markdown",
   "metadata": {},
   "source": [
    "Raw String:   Use raw strings when you want to avoid escaping backslashes, particularly in regular expressions or Windows file paths. In a raw string, backslashes (\\\\) are treated as literal characters, which makes it especially useful for defining regex patterns."
   ]
  },
  {
   "cell_type": "markdown",
   "metadata": {},
   "source": [
    "example:"
   ]
  },
  {
   "cell_type": "code",
   "execution_count": 1,
   "metadata": {},
   "outputs": [
    {
     "name": "stdout",
     "output_type": "stream",
     "text": [
      "Raw String :  C:\\Users\\Name\\Documents\n"
     ]
    }
   ],
   "source": [
    "# Creating a raw string\n",
    "raw_string = r\"C:\\Users\\Name\\Documents\"\n",
    "print(\"Raw String : \",raw_string)"
   ]
  },
  {
   "cell_type": "markdown",
   "metadata": {},
   "source": [
    "Bytes literals: Used to handle binary data, such as images, audio files, and other non-text data. They are sequences of integers in the range of 0 to 255, representing raw byte values. Bytes literals are particularly useful when working with binary files, network communications, or when you need to encode or decode data."
   ]
  },
  {
   "cell_type": "code",
   "execution_count": 2,
   "metadata": {},
   "outputs": [
    {
     "name": "stdout",
     "output_type": "stream",
     "text": [
      "Bytes String       :  b'Hello, World!'\n",
      "ASCII value of 'H' :  72\n",
      "Normal String      :  Hello, World!\n"
     ]
    }
   ],
   "source": [
    "# Creating a bytes literal\n",
    "bytes_string = b\"Hello, World!\"\n",
    "\n",
    "# Accessing individual bytes\n",
    "print(\"Bytes String       : \", bytes_string) \n",
    "print(\"ASCII value of 'H' : \", bytes_string[0]) \n",
    "\n",
    "# Converting bytes to a string\n",
    "decoded_string = bytes_string.decode('utf-8')\n",
    "print(\"Normal String      : \", decoded_string)  # Output: Hello, World!"
   ]
  },
  {
   "cell_type": "markdown",
   "metadata": {},
   "source": [
    "Unicode String: Use Unicode strings when you need to represent text that includes characters from various languages and symbol sets. Unicode strings are prefixed with a u or U in Python 2, but in Python 3, all string literals are Unicode by default. This means that Unicode strings can handle a wide range of characters, including letters, numbers, punctuation, and special symbols from different languages. Unicode is essential for ensuring that text is displayed correctly across different platforms and systems, making it particularly useful for internationalization and localization of applications."
   ]
  },
  {
   "cell_type": "code",
   "execution_count": 3,
   "metadata": {},
   "outputs": [
    {
     "name": "stdout",
     "output_type": "stream",
     "text": [
      "Unicode String :  Hello, 🌍!\n"
     ]
    }
   ],
   "source": [
    "# Creating a unicode string\n",
    "unicode_string = u\"Hello, 🌍!\"  # Contains a Unicode emoji\n",
    "print(\"Unicode String : \", unicode_string)\n"
   ]
  },
  {
   "cell_type": "markdown",
   "metadata": {},
   "source": [
    "Formatted String: Use formatted strings when you want to easily include variables or expressions in a string. Formatted strings allow you to place variables inside curly braces {}. This makes it simple to create dynamic messages without complicated formatting. They are great for generating text that includes variable values."
   ]
  },
  {
   "cell_type": "code",
   "execution_count": 4,
   "metadata": {},
   "outputs": [
    {
     "name": "stdout",
     "output_type": "stream",
     "text": [
      "Formated String :  My name is Anto and I am 23 years old.\n"
     ]
    }
   ],
   "source": [
    "# Creating a formated string\n",
    "name = \"Anto\"\n",
    "age = 23\n",
    "formatted_string = f\"My name is {name} and I am {age} years old.\"\n",
    "print(\"Formated String : \", formatted_string)"
   ]
  },
  {
   "cell_type": "markdown",
   "metadata": {},
   "source": [
    "*Regex Basics: The Building Blocks*"
   ]
  },
  {
   "cell_type": "markdown",
   "metadata": {},
   "source": [
    "- Metacharacters & Escape Sequences\n",
    "- Regex Operations in Python (re Module)\n",
    "- Quantifiers: Controlling Repetitions\n",
    "- Grouping & Capturing: The Power of ()\n",
    "- Greedy vs. Lazy Matching\n"
   ]
  },
  {
   "cell_type": "markdown",
   "metadata": {},
   "source": [
    "Metacharacters & Escape Sequences:"
   ]
  },
  {
   "cell_type": "markdown",
   "metadata": {},
   "source": [
    ". (Dot):\n",
    "\n",
    "Description --> The dot matches any single character except for a newline character (\\n). It is a wildcard that can represent any character in a string.\n",
    "\n",
    "Example: In the pattern **c.t**, the dot can match any character between 'c' and 't', such as 'a', 'b', or 'x'. So it would match \"cat\", \"cut\", \"c1t\", etc."
   ]
  },
  {
   "cell_type": "code",
   "execution_count": 5,
   "metadata": {},
   "outputs": [
    {
     "name": "stdout",
     "output_type": "stream",
     "text": [
      "Matched String :  ['cat']\n"
     ]
    }
   ],
   "source": [
    "import re\n",
    "\n",
    "text = \"cat bat rat\"\n",
    "pattern = r\"c.t\"  # Matches any three-character string starting with 'c' and ending with 't'\n",
    "\n",
    "matches = re.findall(pattern, text)\n",
    "print(\"Matched String : \", matches)"
   ]
  },
  {
   "cell_type": "markdown",
   "metadata": {},
   "source": [
    "^ (Caret):\n",
    "\n",
    "Description --> The caret matches the start of a string. It asserts that the following pattern must occur at the beginning of the string.\n",
    "\n",
    "Example: In the pattern ^Hello, it will match any string that starts with \"Hello\", such as \"Hello, World!\" or \"Hello there!\". It will not match \"Say Hello\"."
   ]
  },
  {
   "cell_type": "code",
   "execution_count": 6,
   "metadata": {},
   "outputs": [
    {
     "name": "stdout",
     "output_type": "stream",
     "text": [
      "Matched String :  <re.Match object; span=(0, 5), match='Hello'>\n"
     ]
    }
   ],
   "source": [
    "import re\n",
    "\n",
    "text = \"Hello, World!\"\n",
    "pattern = r\"^Hello\"  # Matches if the string starts with 'Hello'\n",
    "\n",
    "match = re.match(pattern, text)\n",
    "print(\"Matched String : \", match)\n"
   ]
  },
  {
   "cell_type": "markdown",
   "metadata": {},
   "source": [
    "$ (Dollar): \n",
    "\n",
    "Description --> The dollar sign matches the end of a string. It asserts that the preceding pattern must occur at the end of the string.\n",
    "\n",
    "Example: In the pattern World!$, it will match any string that ends with \"World!\", such as \"Hello, World!\" or \"Goodbye, World!\". It will not match \"World! is great\"."
   ]
  },
  {
   "cell_type": "code",
   "execution_count": 7,
   "metadata": {},
   "outputs": [
    {
     "name": "stdout",
     "output_type": "stream",
     "text": [
      "Matched String :  <re.Match object; span=(7, 13), match='World!'>\n"
     ]
    }
   ],
   "source": [
    "import re\n",
    "\n",
    "text = \"Hello, World!\"\n",
    "pattern = r\"World!$\"  # Matches if the string ends with 'World!'\n",
    "\n",
    "match = re.search(pattern, text)\n",
    "print(\"Matched String : \", match) "
   ]
  },
  {
   "cell_type": "markdown",
   "metadata": {},
   "source": [
    "[] (Character Set):\n",
    "\n",
    "Description --> The character set matches any single character that is included within the brackets. You can specify a range of characters or individual characters.\n",
    "\n",
    "Example: In the pattern [abc]pple, it will match \"apple\" (because it starts with 'a'), \"bpple\" (because it starts with 'b'), or \"cpple\" (because it starts with 'c'). It will not match \"dpple\"."
   ]
  },
  {
   "cell_type": "code",
   "execution_count": 8,
   "metadata": {},
   "outputs": [
    {
     "name": "stdout",
     "output_type": "stream",
     "text": [
      "Matched String :  ['apple']\n"
     ]
    }
   ],
   "source": [
    "import re\n",
    "\n",
    "text = \"apple banana cherry\"\n",
    "pattern = r\"[abc]pple\"  # Matches 'apple' if it starts with 'a', 'b', or 'c'\n",
    "\n",
    "matches = re.findall(pattern, text)\n",
    "print(\"Matched String : \", matches) "
   ]
  },
  {
   "cell_type": "markdown",
   "metadata": {},
   "source": [
    "Escape sequences make pattern matching easier:"
   ]
  },
  {
   "cell_type": "markdown",
   "metadata": {},
   "source": [
    " \\d (Digit):"
   ]
  },
  {
   "cell_type": "markdown",
   "metadata": {},
   "source": [
    "Description --> Matches any digit from 0 to 9."
   ]
  },
  {
   "cell_type": "code",
   "execution_count": 9,
   "metadata": {},
   "outputs": [
    {
     "name": "stdout",
     "output_type": "stream",
     "text": [
      "Matched String :  ['3', '5']\n"
     ]
    }
   ],
   "source": [
    "import re\n",
    "\n",
    "text = \"There are 3 apples and 5 oranges.\"\n",
    "pattern = r\"\\d\"  # Matches any single digit\n",
    "\n",
    "matches = re.findall(pattern, text)\n",
    "print(\"Matched String : \", matches) "
   ]
  },
  {
   "cell_type": "markdown",
   "metadata": {},
   "source": [
    " \\D (Non-Digit):"
   ]
  },
  {
   "cell_type": "markdown",
   "metadata": {},
   "source": [
    "Description --> Matches any character that is not a digit (0-9)."
   ]
  },
  {
   "cell_type": "code",
   "execution_count": 10,
   "metadata": {},
   "outputs": [
    {
     "name": "stdout",
     "output_type": "stream",
     "text": [
      "Matched String :  ['R', 'o', 'o', 'm', ' ', ' ', 'i', 's', ' ', 'o', 'n', ' ', 't', 'h', 'e', ' ', 's', 't', ' ', 'f', 'l', 'o', 'o', 'r', '.']\n"
     ]
    }
   ],
   "source": [
    "import re\n",
    "\n",
    "text = \"Room 101 is on the 1st floor.\"\n",
    "pattern = r\"\\D\"  # Matches any non-digit character\n",
    "\n",
    "matches = re.findall(pattern, text)\n",
    "print(\"Matched String : \", matches) \n"
   ]
  },
  {
   "cell_type": "markdown",
   "metadata": {},
   "source": [
    " \\w (Word Character):"
   ]
  },
  {
   "cell_type": "markdown",
   "metadata": {},
   "source": [
    "Description --> Matches any word character, which includes letters (a-z, A-Z), digits (0-9), and underscores (_)."
   ]
  },
  {
   "cell_type": "code",
   "execution_count": 11,
   "metadata": {},
   "outputs": [
    {
     "name": "stdout",
     "output_type": "stream",
     "text": [
      "Matched String :  ['H', 'e', 'l', 'l', 'o', '_', 'W', 'o', 'r', 'l', 'd', '1', '2', '3']\n"
     ]
    }
   ],
   "source": [
    "import re\n",
    "\n",
    "text = \"Hello_World123!\"\n",
    "pattern = r\"\\w\"  # Matches any word character\n",
    "\n",
    "matches = re.findall(pattern, text)\n",
    "print(\"Matched String : \", matches) "
   ]
  },
  {
   "cell_type": "markdown",
   "metadata": {},
   "source": [
    "\\W (Non-Word Character):"
   ]
  },
  {
   "cell_type": "markdown",
   "metadata": {},
   "source": [
    "Description --> Matches any character that is not a word character (anything except a-z, A-Z, 0-9, and _)."
   ]
  },
  {
   "cell_type": "code",
   "execution_count": 12,
   "metadata": {},
   "outputs": [
    {
     "name": "stdout",
     "output_type": "stream",
     "text": [
      "Matched String :  [',', ' ', '!', ' ', '.']\n"
     ]
    }
   ],
   "source": [
    "import re\n",
    "\n",
    "text = \"Hello, World! 123.\"\n",
    "pattern = r\"\\W\"  # Matches any non-word character\n",
    "\n",
    "matches = re.findall(pattern, text)\n",
    "print(\"Matched String : \", matches) "
   ]
  },
  {
   "cell_type": "markdown",
   "metadata": {},
   "source": [
    "\\s (Whitespace):"
   ]
  },
  {
   "cell_type": "markdown",
   "metadata": {},
   "source": [
    "Description --> Matches any whitespace character, including spaces, tabs, and newlines."
   ]
  },
  {
   "cell_type": "code",
   "execution_count": 13,
   "metadata": {},
   "outputs": [
    {
     "name": "stdout",
     "output_type": "stream",
     "text": [
      "Matched String :  ['\\n', ' ', ' ', ' ', ' ', ' ']\n"
     ]
    }
   ],
   "source": [
    "import re\n",
    "\n",
    "text = \"Hello,\\nWorld!  This is a test.\"\n",
    "pattern = r\"\\s\"  # Matches any whitespace character\n",
    "\n",
    "matches = re.findall(pattern, text)\n",
    "print(\"Matched String : \", matches) "
   ]
  },
  {
   "cell_type": "markdown",
   "metadata": {},
   "source": [
    " \\S (Non-Whitespace):"
   ]
  },
  {
   "cell_type": "markdown",
   "metadata": {},
   "source": [
    "Description --> Matches any character that is not a whitespace character."
   ]
  },
  {
   "cell_type": "code",
   "execution_count": 14,
   "metadata": {},
   "outputs": [
    {
     "name": "stdout",
     "output_type": "stream",
     "text": [
      "Matched String :  ['H', 'e', 'l', 'l', 'o', ',', 'W', 'o', 'r', 'l', 'd', '!', '1', '2', '3', '.']\n"
     ]
    }
   ],
   "source": [
    "import re\n",
    "\n",
    "text = \"Hello, World! 123.\"\n",
    "pattern = r\"\\S\"  # Matches any non-whitespace character\n",
    "\n",
    "matches = re.findall(pattern, text)\n",
    "print(\"Matched String : \", matches) "
   ]
  },
  {
   "cell_type": "markdown",
   "metadata": {},
   "source": [
    "Regex Operations in Python (re Module)"
   ]
  },
  {
   "cell_type": "markdown",
   "metadata": {},
   "source": [
    "- findall()\n",
    "- search()\n",
    "- match()"
   ]
  },
  {
   "cell_type": "markdown",
   "metadata": {},
   "source": [
    "findall():"
   ]
  },
  {
   "cell_type": "markdown",
   "metadata": {},
   "source": [
    "Description --> The findall() function returns a list of all non-overlapping matches of a pattern in a string. It scans the entire string and finds **all occurrences** that match the specified regex pattern."
   ]
  },
  {
   "cell_type": "code",
   "execution_count": 15,
   "metadata": {},
   "outputs": [
    {
     "name": "stdout",
     "output_type": "stream",
     "text": [
      "Matched String :  ['ain', 'ain', 'ain', 'ain']\n"
     ]
    }
   ],
   "source": [
    "import re\n",
    "\n",
    "text = \"The rain in Spain falls mainly in the plain.\"\n",
    "pattern = r\"ain\"  # Pattern to search for\n",
    "\n",
    "matches = re.findall(pattern, text)\n",
    "print(\"Matched String : \", matches) "
   ]
  },
  {
   "cell_type": "markdown",
   "metadata": {},
   "source": [
    "search():"
   ]
  },
  {
   "cell_type": "markdown",
   "metadata": {},
   "source": [
    "Description --> The search() function scans through a string and returns the **first match of the pattern**. If a match is found, it returns a match object; otherwise, it returns None."
   ]
  },
  {
   "cell_type": "code",
   "execution_count": 16,
   "metadata": {},
   "outputs": [
    {
     "name": "stdout",
     "output_type": "stream",
     "text": [
      "Match found: Spain\n"
     ]
    }
   ],
   "source": [
    "import re\n",
    "\n",
    "text = \"The rain in Spain falls mainly in the plain.\"\n",
    "pattern = r\"Spain\"  # Pattern to search for\n",
    "\n",
    "match = re.search(pattern, text)\n",
    "if match:\n",
    "    print(\"Match found:\", match.group())\n",
    "else:\n",
    "    print(\"No match found.\")"
   ]
  },
  {
   "cell_type": "markdown",
   "metadata": {},
   "source": [
    "match():"
   ]
  },
  {
   "cell_type": "markdown",
   "metadata": {},
   "source": [
    "Description --> The match() function checks for a match only at the **beginning of the string**. It returns a match object if the pattern matches the start of the string; otherwise, it returns None."
   ]
  },
  {
   "cell_type": "code",
   "execution_count": 17,
   "metadata": {},
   "outputs": [
    {
     "name": "stdout",
     "output_type": "stream",
     "text": [
      "Match found: The\n"
     ]
    }
   ],
   "source": [
    "import re\n",
    "\n",
    "text = \"The rain in Spain falls mainly in the plain.\"\n",
    "pattern = r\"The\"  # Pattern to search for\n",
    "\n",
    "match = re.match(pattern, text)\n",
    "if match:\n",
    "    print(\"Match found:\", match.group())\n",
    "else:\n",
    "    print(\"No match found.\")"
   ]
  },
  {
   "cell_type": "markdown",
   "metadata": {},
   "source": [
    "Quantifiers: Controlling Repetitions"
   ]
  },
  {
   "cell_type": "markdown",
   "metadata": {},
   "source": [
    "- \\+ \n",
    "- \\* \n",
    "- \\? \n",
    "- \\{n,m}"
   ]
  },
  {
   "cell_type": "markdown",
   "metadata": {},
   "source": [
    " \\+ (One or More):"
   ]
  },
  {
   "cell_type": "markdown",
   "metadata": {},
   "source": [
    "Description --> The **'+'** quantifier matches **one or more occurrences** of the preceding element. It requires at least one match to be present."
   ]
  },
  {
   "cell_type": "code",
   "execution_count": 18,
   "metadata": {},
   "outputs": [
    {
     "name": "stdout",
     "output_type": "stream",
     "text": [
      "Matched String :  ['a', 'aa', 'aaa', 'aaaa']\n"
     ]
    }
   ],
   "source": [
    "import re\n",
    "\n",
    "text = \"a aa aaa aaaa\"\n",
    "pattern = r\"a+\"  # Matches one or more 'a's\n",
    "\n",
    "matches = re.findall(pattern, text)\n",
    "print(\"Matched String : \", matches) "
   ]
  },
  {
   "cell_type": "markdown",
   "metadata": {},
   "source": [
    "\\* (Zero or More):"
   ]
  },
  {
   "cell_type": "markdown",
   "metadata": {},
   "source": [
    "Description --> The **'*'** quantifier matches **zero or more occurrences** of the preceding element. It can match an empty string as well."
   ]
  },
  {
   "cell_type": "code",
   "execution_count": 19,
   "metadata": {},
   "outputs": [
    {
     "name": "stdout",
     "output_type": "stream",
     "text": [
      "Matched String :  ['a', '', 'aa', '', 'aaa', '', 'aaaa', '']\n"
     ]
    }
   ],
   "source": [
    "import re\n",
    "\n",
    "text = \"a aa aaa aaaa\"\n",
    "pattern = r\"a*\"  # Matches zero or more 'a's\n",
    "\n",
    "matches = re.findall(pattern, text)\n",
    "print(\"Matched String : \", matches) "
   ]
  },
  {
   "cell_type": "markdown",
   "metadata": {},
   "source": [
    "? (Zero or One):"
   ]
  },
  {
   "cell_type": "markdown",
   "metadata": {},
   "source": [
    "Description --> The **'?'** quantifier matches **zero or one occurrence** of the preceding element. **It makes the preceding element optional**."
   ]
  },
  {
   "cell_type": "code",
   "execution_count": 20,
   "metadata": {},
   "outputs": [
    {
     "name": "stdout",
     "output_type": "stream",
     "text": [
      "Matched String :  ['a', '', 'a', 'a', '', 'a', 'a', 'a', '', 'a', 'a', 'a', 'a', '']\n"
     ]
    }
   ],
   "source": [
    "import re\n",
    "\n",
    "text = \"a aa aaa aaaa\"\n",
    "pattern = r\"a?\"  # Matches zero or one 'a'\n",
    "\n",
    "matches = re.findall(pattern, text)\n",
    "print(\"Matched String : \", matches)"
   ]
  },
  {
   "cell_type": "markdown",
   "metadata": {},
   "source": [
    "\\{n,m\\} (Min, Max):"
   ]
  },
  {
   "cell_type": "markdown",
   "metadata": {},
   "source": [
    "Description --> The **'{n,m}'** quantifier matches **between n and m occurrences** of the preceding element. **It requires at least n matches and allows up to m matches**."
   ]
  },
  {
   "cell_type": "code",
   "execution_count": 21,
   "metadata": {},
   "outputs": [
    {
     "name": "stdout",
     "output_type": "stream",
     "text": [
      "Matched String :  ['aa', 'aaa', 'aaaa', 'aaaa']\n"
     ]
    }
   ],
   "source": [
    "import re\n",
    "\n",
    "text = \"a aa aaa aaaa aaaaa\"\n",
    "pattern = r\"a{2,4}\"  # Matches between 2 and 4 'a's\n",
    "\n",
    "matches = re.findall(pattern, text)\n",
    "print(\"Matched String : \", matches)"
   ]
  },
  {
   "cell_type": "markdown",
   "metadata": {},
   "source": [
    "Grouping & Capturing: The Power of ()"
   ]
  },
  {
   "cell_type": "markdown",
   "metadata": {},
   "source": [
    "Parentheses () allow you to group parts of your pattern and capture matched text for later use. This is useful when extracting specific parts of a string."
   ]
  },
  {
   "cell_type": "code",
   "execution_count": 22,
   "metadata": {},
   "outputs": [
    {
     "name": "stdout",
     "output_type": "stream",
     "text": [
      "Order Number: 12345, Order Date: 2023-10-01\n"
     ]
    }
   ],
   "source": [
    "import re\n",
    "\n",
    "text = \"Order number: 12345, Date: 2023-10-01\"\n",
    "pattern = r\"Order number: (\\d+), Date: (\\d{4}-\\d{2}-\\d{2})\"  # Captures order number and date\n",
    "\n",
    "match = re.search(pattern, text)\n",
    "if match:\n",
    "    order_number = match.group(1)  # First captured group\n",
    "    order_date = match.group(2)     # Second captured group\n",
    "    print(f\"Order Number: {order_number}, Order Date: {order_date}\")"
   ]
  },
  {
   "cell_type": "markdown",
   "metadata": {},
   "source": [
    "Greedy vs. Lazy Matching"
   ]
  },
  {
   "cell_type": "markdown",
   "metadata": {},
   "source": [
    "Greedy Matchers\n",
    "\n",
    "Description --> Greedy matchers **try to match as much text as possible**. They will expand their match as far as they can while still allowing the overall pattern to succeed."
   ]
  },
  {
   "cell_type": "code",
   "execution_count": 23,
   "metadata": {},
   "outputs": [
    {
     "name": "stdout",
     "output_type": "stream",
     "text": [
      "abc ac abc\n"
     ]
    }
   ],
   "source": [
    "import re\n",
    "\n",
    "text = \"abc ac abced\"\n",
    "pattern = r\"a.*c\"  # Greedy match\n",
    "\n",
    "match = re.search(pattern, text)\n",
    "print(match.group())"
   ]
  },
  {
   "cell_type": "markdown",
   "metadata": {},
   "source": [
    "Lazy Matchers"
   ]
  },
  {
   "cell_type": "markdown",
   "metadata": {},
   "source": [
    "Description --> Lazy matchers (also known as non-greedy matchers) **try to match as little text as possible**. They will stop matching as soon as they can while still allowing the overall pattern to succeed.\n",
    "\n",
    "*? (Zero or More, Lazy)\n",
    "\n",
    "+? (one or More, Lazy)"
   ]
  },
  {
   "cell_type": "code",
   "execution_count": 24,
   "metadata": {},
   "outputs": [
    {
     "name": "stdout",
     "output_type": "stream",
     "text": [
      "abc\n"
     ]
    }
   ],
   "source": [
    "import re\n",
    "\n",
    "text = \"abc ac abced\"\n",
    "pattern = r\"a.*?c\"  # Greedy match\n",
    "\n",
    "match = re.search(pattern, text)\n",
    "print(match.group())"
   ]
  },
  {
   "cell_type": "markdown",
   "metadata": {},
   "source": [
    "Fun Fact: Where Regex Came From?\n",
    "\n",
    "Did you know Regex dates back to the 1950s? It was introduced by mathematician Stephen Kleene as part of automata theory. Today, it powers everything from search engines to AI models!"
   ]
  }
 ],
 "metadata": {
  "kernelspec": {
   "display_name": "venv",
   "language": "python",
   "name": "python3"
  },
  "language_info": {
   "codemirror_mode": {
    "name": "ipython",
    "version": 3
   },
   "file_extension": ".py",
   "mimetype": "text/x-python",
   "name": "python",
   "nbconvert_exporter": "python",
   "pygments_lexer": "ipython3",
   "version": "3.9.6"
  }
 },
 "nbformat": 4,
 "nbformat_minor": 4
}
