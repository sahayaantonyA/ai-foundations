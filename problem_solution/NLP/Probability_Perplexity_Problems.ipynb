{
 "cells": [
  {
   "cell_type": "markdown",
   "id": "06c46341",
   "metadata": {},
   "source": [
    "\n",
    "# Understanding Problems in Probability and Perplexity (Simplified)\n",
    "\n",
    "## Key Issues and Solutions\n",
    "\n",
    "### 1. Raw Probability Problems\n",
    "**Issue:** Favors short sentences and fails for unseen words.\n",
    "\n",
    "**Example Calculation:**  \n",
    "- Sentence: *\"I am here.\"*  \n",
    "  Probability Calculation:  \n",
    "  **P(I am here) = P(I) * P(am|I) * P(here|I, am)**\n",
    "Assume:  \n",
    "- P(I) = 0.1  \n",
    "- P(am | I) = 0.2  \n",
    "- P(here | I, am) = 0.3  \n",
    "\n",
    "Final Probability:  \n",
    "0.1 * 0.2 * 0.3 = 0.006  \n",
    "\n",
    "**Longer Sentence Example:**  \n",
    "- Sentence: *\"I arrived here in the morning...\"*  \n",
    "  Probability Calculation:  \n",
    "  **P(I arrived here ...) = 0.1 * 0.05 * 0.03 * 0.02 = 0.00003**  \n",
    "\n",
    "**Solution:** Use **Perplexity** instead, which normalizes sentence length.\n",
    "\n",
    "**Zero Probability Issue:** Encountering unseen words like \"blockchain\" leads to P(blockchain) = 0.\n",
    "\n",
    "**Solution:** Apply **Add-1 Smoothing** or **Backoff Models** to handle rare words.\n",
    "\n",
    "---\n",
    "\n",
    "### 2. Perplexity Problems\n",
    "**Issue 1:** Overfitted models may score low perplexity but fail in real-world data.\n",
    "\n",
    "**Solution:** Use a **DevSet** for tuning before final testing.\n",
    "\n",
    "**Issue 2:** Perplexity is inflated with larger vocabularies.\n",
    "\n",
    "**Solution:** Normalize scores by vocabulary size or adopt **Subword Tokenization**.\n",
    "\n",
    "**Issue 3:** Perplexity doesn't measure sentence coherence.\n",
    "\n",
    "**Solution:** Combine perplexity with metrics like **BLEU**, **ROUGE**, or **BERTScore**.\n",
    "\n",
    "---\n",
    "\n",
    "### Conclusion\n",
    "Combining **perplexity** with smarter techniques like **smoothing**, **subword models**, and **coherence metrics** can improve model performance and reliability.\n"
   ]
  },
  {
   "cell_type": "markdown",
   "id": "c26fbd22",
   "metadata": {},
   "source": []
  }
 ],
 "metadata": {
  "language_info": {
   "name": "python"
  }
 },
 "nbformat": 4,
 "nbformat_minor": 5
}
